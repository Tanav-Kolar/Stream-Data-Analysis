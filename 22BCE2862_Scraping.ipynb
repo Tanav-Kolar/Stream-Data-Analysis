{
 "cells": [
  {
   "cell_type": "markdown",
   "id": "eb624229-7483-4170-a00c-348c62a08415",
   "metadata": {},
   "source": [
    "<h3> Using Selenium to Scrape Steam Reviews Data </h3>"
   ]
  },
  {
   "cell_type": "code",
   "execution_count": 1,
   "id": "a9d31f71-a997-43f2-bbe7-b483fa5f2296",
   "metadata": {},
   "outputs": [],
   "source": [
    "from selenium.webdriver.common.keys import Keys\n",
    "from selenium.webdriver.common.by import By\n",
    "from selenium.common.exceptions import NoSuchElementException \n",
    "from selenium import webdriver\n",
    "\n",
    "import re\n",
    "import time\n",
    "from datetime import datetime\n",
    "import pandas as pd\n",
    "\n",
    "import nltk\n",
    "from nltk.corpus import stopwords\n",
    "from wordcloud import WordCloud\n",
    "\n",
    "import plotly.express as px\n",
    "import matplotlib.pyplot as plt\n",
    "import os"
   ]
  },
  {
   "cell_type": "code",
   "execution_count": 2,
   "id": "22faf842-c1e4-47f1-bc67-5376e26191a0",
   "metadata": {},
   "outputs": [
    {
     "name": "stdout",
     "output_type": "stream",
     "text": [
      "https://steamcommunity.com/app/281990/reviews/?p=1&browsefilter=mostrecent&filterLanguage=english\n"
     ]
    }
   ],
   "source": [
    "game_id = 281990\n",
    "url_template = \"https://steamcommunity.com/app/{}/reviews/?p=1&browsefilter=mostrecent&filterLanguage=english\"\n",
    "url = url_template.format(game_id)\n",
    "\n",
    "print(url)"
   ]
  },
  {
   "cell_type": "code",
   "execution_count": 3,
   "id": "3ddad219-c82c-4013-aff1-63a4f6f5c734",
   "metadata": {},
   "outputs": [],
   "source": [
    "browser = webdriver.Safari()\n",
    "browser.get(url)"
   ]
  },
  {
   "cell_type": "code",
   "execution_count": 4,
   "id": "d72a8668-7cfa-4c29-860e-55712356128c",
   "metadata": {},
   "outputs": [],
   "source": [
    "def get_current_scroll_position(browser):\n",
    "    return browser.execute_script(\"return window.pageYOffset;\")\n",
    "\n",
    "def scroll_to_bottom(browser):\n",
    "    browser.execute_script(\"window.scrollTo(0, document.body.scrollHeight);\")\n",
    "    time.sleep(1)\n",
    "\n",
    "def get_steam_id(card):\n",
    "    profile_url = card.find_element(By.XPATH,'.//div[@class=\"apphub_friend_block\"]/a').get_attribute('href')\n",
    "    steam_id = profile_url.split('/')[-1]\n",
    "    return steam_id\n",
    "\n",
    "def scrape_review_data(card):\n",
    "    date_posted_element = card.find_element(By.XPATH,'.//div[@class=\"apphub_CardTextContent\"]/div[@class=\"date_posted\"]')\n",
    "    date_posted = date_posted_element.text.strip()\n",
    "\n",
    "    try:\n",
    "        received_compensation_element = card.find_element(By.CLASS_NAME,\"received_compensation\").text\n",
    "    except NoSuchElementException:\n",
    "        received_compensation_element = \"\"\n",
    "\n",
    "    card_text_content_element = card.find_element(By.CLASS_NAME,\"apphub_CardTextContent\")\n",
    "    review_content = card_text_content_element.text.strip()\n",
    "    excluded_elements = [date_posted, received_compensation_element]\n",
    "\n",
    "    for excluded_element in excluded_elements:\n",
    "        review_content = review_content.replace(excluded_element, \"\")\n",
    "    review_content = review_content.replace(\"\\n\", \"\").replace(\"\\t\", \"\")\n",
    "\n",
    "    review_length = len(review_content.replace(\" \", \"\"))\n",
    "\n",
    "    thumb_text = card.find_element(By.XPATH,'.//div[@class=\"reviewInfo\"]/div[2]').text\n",
    "    play_hours = card.find_element(By.XPATH,'.//div[@class=\"reviewInfo\"]/div[3]').text\n",
    "\n",
    "    return review_content, thumb_text, review_length, play_hours, date_posted"
   ]
  },
  {
   "cell_type": "code",
   "execution_count": null,
   "id": "64d7f201-f522-4866-a81d-d2efaa78a810",
   "metadata": {},
   "outputs": [],
   "source": [
    "reviews = []\n",
    "steam_ids_set = set()\n",
    "max_scroll_attempts = 10\n",
    "\n",
    "try:\n",
    "    last_position = get_current_scroll_position(browser)\n",
    "    running = True\n",
    "    while running:\n",
    "        cards = browser.find_elements(By.CLASS_NAME, 'apphub_Card')\n",
    "\n",
    "        for card in cards[-30:]:\n",
    "            steam_id = get_steam_id(card)\n",
    "        \n",
    "            if steam_id in steam_ids_set:\n",
    "                continue\n",
    "            else:\n",
    "                review = scrape_review_data(card)\n",
    "                reviews.append(review)\n",
    "            \n",
    "            #steam_ids_set.add(steam_id)\n",
    "        \n",
    "        scroll_attempt = 0\n",
    "        while scroll_attempt < max_scroll_attempts:\n",
    "            scroll_to_bottom(browser)\n",
    "            curr_position = get_current_scroll_position(browser)\n",
    "\n",
    "            if curr_position == last_position:\n",
    "                scroll_attempt+=1\n",
    "                time_sleep(3)\n",
    "\n",
    "                if curr_position >=3:\n",
    "                    running = False\n",
    "                    break\n",
    "\n",
    "            else:\n",
    "                last_position = curr_position\n",
    "                break\n",
    "            \n",
    "except Exception as e:\n",
    "    print(e)\n",
    "    \n",
    "finally:\n",
    "    browser.quit()"
   ]
  },
  {
   "cell_type": "code",
   "execution_count": null,
   "id": "a802634f-eb1f-4581-be3b-dbeca69cbfc0",
   "metadata": {},
   "outputs": [],
   "source": [
    "df = pd.DataFrame(reviews, columns = ['ReviewText', 'Review','ReviewLength','PlayHours', 'DatePosted'])"
   ]
  },
  {
   "cell_type": "code",
   "execution_count": null,
   "id": "218c280a-931a-4215-ab28-dec5d9732c7e",
   "metadata": {},
   "outputs": [],
   "source": [
    "df.head()"
   ]
  },
  {
   "cell_type": "code",
   "execution_count": null,
   "id": "dff5868d-1cdf-44b0-a499-bc8a2ed4d68c",
   "metadata": {},
   "outputs": [],
   "source": [
    "df.info()"
   ]
  },
  {
   "cell_type": "code",
   "execution_count": null,
   "id": "ecffbb73-675f-40bc-9510-4a68df401095",
   "metadata": {},
   "outputs": [],
   "source": [
    "df.shape"
   ]
  },
  {
   "cell_type": "code",
   "execution_count": null,
   "id": "95005bd8-b95f-4985-9b6f-11457571ae4f",
   "metadata": {},
   "outputs": [],
   "source": [
    "df['PlayHours'] = df['PlayHours'].str.replace(\"hrs on record\", \"\")\n"
   ]
  },
  {
   "cell_type": "code",
   "execution_count": null,
   "id": "7162ad78-dbe9-4217-8673-16071ff89697",
   "metadata": {},
   "outputs": [],
   "source": [
    "df['PlayHours']"
   ]
  },
  {
   "cell_type": "code",
   "execution_count": null,
   "id": "c4cf1d71-d7db-4615-b178-6354c43d88d2",
   "metadata": {},
   "outputs": [],
   "source": [
    "month_mapping = {\n",
    "    'January':'01',\n",
    "    'February':'02',\n",
    "    'March':'03',\n",
    "    'April':'04',\n",
    "    'May':'05',\n",
    "    'June':'06',\n",
    "    'July':'07',\n",
    "    'August':'08',\n",
    "    'September':'09',\n",
    "    'October':'10',\n",
    "    'November':'11',\n",
    "    'December':'12'\n",
    "}"
   ]
  },
  {
   "cell_type": "code",
   "execution_count": null,
   "id": "7555b7af-111e-4c7b-8702-fcbcdae8b27b",
   "metadata": {},
   "outputs": [],
   "source": [
    "df[['Day', 'Month']] = df['DatePosted'].str.extract(r'(\\d+) (\\w+)', expand=True)"
   ]
  },
  {
   "cell_type": "code",
   "execution_count": null,
   "id": "a2d786be-e802-450d-b2b9-86a86fb5edd4",
   "metadata": {},
   "outputs": [],
   "source": [
    "df.head()"
   ]
  },
  {
   "cell_type": "code",
   "execution_count": null,
   "id": "7d7b2493-430c-4d2a-b2a3-784ce7e053c4",
   "metadata": {},
   "outputs": [],
   "source": [
    "df['Month']=df['Month'].map(month_mapping)"
   ]
  },
  {
   "cell_type": "code",
   "execution_count": null,
   "id": "34bb3485-f3bf-4680-8094-e204e59fc488",
   "metadata": {},
   "outputs": [],
   "source": [
    "df.head(1)"
   ]
  },
  {
   "cell_type": "code",
   "execution_count": null,
   "id": "e4b99dca-7e09-4f4e-9ef3-0926d1b9ae0e",
   "metadata": {},
   "outputs": [],
   "source": [
    "df['DatePosted'] = df['Day'] + '/' + df['Month'] + '/2024'\n",
    "df['DatePosted'] = pd.to_datetime(df['DatePosted'], format='%d/%m/%Y').dt.strftime('%d-%m-%Y')\n",
    "df = df.drop(['Day', 'Month'], axis=1)"
   ]
  },
  {
   "cell_type": "code",
   "execution_count": null,
   "id": "22270ac3-27dd-45bd-8ee9-dea6865b35aa",
   "metadata": {},
   "outputs": [],
   "source": [
    "df.head()"
   ]
  },
  {
   "cell_type": "code",
   "execution_count": null,
   "id": "f43bd20c-16f4-4518-8f11-6c57d37f0b84",
   "metadata": {},
   "outputs": [],
   "source": [
    "df.to_csv('Stellaris.csv', encoding='utf-8', sep=';', index=False)"
   ]
  }
 ],
 "metadata": {
  "kernelspec": {
   "display_name": "Python 3 (ipykernel)",
   "language": "python",
   "name": "python3"
  },
  "language_info": {
   "codemirror_mode": {
    "name": "ipython",
    "version": 3
   },
   "file_extension": ".py",
   "mimetype": "text/x-python",
   "name": "python",
   "nbconvert_exporter": "python",
   "pygments_lexer": "ipython3",
   "version": "3.12.8"
  }
 },
 "nbformat": 4,
 "nbformat_minor": 5
}
